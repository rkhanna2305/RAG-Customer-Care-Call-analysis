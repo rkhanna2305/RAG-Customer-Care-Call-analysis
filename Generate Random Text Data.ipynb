{
 "cells": [
  {
   "cell_type": "code",
   "execution_count": 5,
   "id": "bd009397",
   "metadata": {},
   "outputs": [
    {
     "name": "stdout",
     "output_type": "stream",
     "text": [
      "Generated 1000 rows of data and saved to customer_care_calls_with_notes.csv\n"
     ]
    }
   ],
   "source": [
    "\n",
    "import csv\n",
    "import random\n",
    "import string\n",
    "from faker import Faker\n",
    "\n",
    "# Initialize Faker for generating realistic names and timestamps\n",
    "fake = Faker()\n",
    "\n",
    "# Define the fields for the dataset\n",
    "fields = [\n",
    "    \"CallID\",\n",
    "    \"CustomerID\",\n",
    "    \"CustomerName\",\n",
    "    \"CallTimestamp\",\n",
    "    \"IssueType\",\n",
    "    \"IssueDescription\",\n",
    "    \"ResolutionStatus\",\n",
    "    \"ResolutionTimeMinutes\",\n",
    "    \"AgentID\",\n",
    "    \"AgentPerformanceRating\",\n",
    "    \"Notes\"\n",
    "]\n",
    "\n",
    "# Example data for some fields\n",
    "issue_types = [\n",
    "    \"Loan Application Issue\", \"Repayment Schedule Query\", \"Interest Rate Clarification\",\n",
    "    \"Overdue Payment Assistance\", \"Account Login Issue\", \"Document Submission Error\",\n",
    "    \"Fraudulent Transaction Report\", \"Pre-Closure Request\", \"EMI Calculation Assistance\"\n",
    "]\n",
    "\n",
    "resolution_statuses = [\"Resolved\", \"Escalated\", \"Pending\", \"Closed Without Resolution\"]\n",
    "\n",
    "notes_templates = [\n",
    "    \"Customer mentioned they were confused about {issue}. Agent explained the process in detail.\",\n",
    "    \"Customer requested additional time for {issue}. Agent advised to check email for updates.\",\n",
    "    \"Customer reported an error in {issue}. Agent reassured resolution within 24 hours.\",\n",
    "    \"Customer was unhappy with {issue}. Escalated the case to a senior team.\",\n",
    "    \"Customer expressed urgency regarding {issue}. Agent prioritized the request.\",\n",
    "    \"Customer provided incomplete details for {issue}. Requested to resubmit required documents.\",\n",
    "    \"Customer asked for clarification on {issue}. Provided necessary details during the call.\",\n",
    "]\n",
    "\n",
    "def random_string(length):\n",
    "    \"\"\"Generate a random string of fixed length.\"\"\"\n",
    "    return ''.join(random.choices(string.ascii_uppercase + string.digits, k=length))\n",
    "\n",
    "def generate_call_data(rows):\n",
    "    \"\"\"Generate random call data.\"\"\"\n",
    "    data = []\n",
    "    for _ in range(rows):\n",
    "        issue = random.choice(issue_types)\n",
    "        call_data = {\n",
    "            \"CallID\": random_string(10),\n",
    "            \"CustomerID\": random_string(8),\n",
    "            \"CustomerName\": fake.name(),\n",
    "            \"CallTimestamp\": fake.date_time_between(start_date=\"-1y\", end_date=\"now\").strftime('%Y-%m-%d %H:%M:%S'),\n",
    "            \"IssueType\": issue,\n",
    "            \"IssueDescription\": f\"Customer reported: {issue}.\",\n",
    "            \"ResolutionStatus\": random.choice(resolution_statuses),\n",
    "            \"ResolutionTimeMinutes\": random.randint(5, 120) if random.choice([True, False]) else None,\n",
    "            \"AgentID\": random_string(6),\n",
    "            \"AgentPerformanceRating\": round(random.uniform(1.0, 5.0), 1),\n",
    "            \"Notes\": random.choice(notes_templates).format(issue=issue)\n",
    "        }\n",
    "        data.append(call_data)\n",
    "    return data\n",
    "\n",
    "def write_to_csv(filename, data):\n",
    "    \"\"\"Write generated data to a CSV file.\"\"\"\n",
    "    with open(filename, mode='w', newline='') as file:\n",
    "        writer = csv.DictWriter(file, fieldnames=fields)\n",
    "        writer.writeheader()\n",
    "        writer.writerows(data)\n",
    "\n",
    "if __name__ == \"__main__\":\n",
    "    rows = 1000  # Number of rows to generate\n",
    "    filename = \"customer_care_calls_with_notes.csv\"\n",
    "    call_data = generate_call_data(rows)\n",
    "    write_to_csv(filename, call_data)\n",
    "    print(f\"Generated {rows} rows of data and saved to {filename}\")\n"
   ]
  },
  {
   "cell_type": "code",
   "execution_count": 6,
   "id": "80dd11d9",
   "metadata": {},
   "outputs": [
    {
     "name": "stdout",
     "output_type": "stream",
     "text": [
      "Michael Ortega\n"
     ]
    }
   ],
   "source": [
    "\n",
    "from faker import Faker\n",
    "fake = Faker()\n",
    "print(fake.name())  # This should print a randomly generated name\n"
   ]
  },
  {
   "cell_type": "code",
   "execution_count": null,
   "id": "9948680e",
   "metadata": {},
   "outputs": [],
   "source": []
  }
 ],
 "metadata": {
  "kernelspec": {
   "display_name": "Python 3 (ipykernel)",
   "language": "python",
   "name": "python3"
  },
  "language_info": {
   "codemirror_mode": {
    "name": "ipython",
    "version": 3
   },
   "file_extension": ".py",
   "mimetype": "text/x-python",
   "name": "python",
   "nbconvert_exporter": "python",
   "pygments_lexer": "ipython3",
   "version": "3.11.5"
  }
 },
 "nbformat": 4,
 "nbformat_minor": 5
}
